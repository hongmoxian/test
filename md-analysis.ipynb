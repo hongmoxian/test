{
 "cells": [
  {
   "cell_type": "code",
   "execution_count": 64,
   "id": "rough-concentration",
   "metadata": {},
   "outputs": [],
   "source": [
    "import MDAnalysis as mda\n",
    "import nglview as nv\n",
    "from MDAnalysis.analysis import align\n",
    "from MDAnalysis.analysis import distances"
   ]
  },
  {
   "cell_type": "code",
   "execution_count": 38,
   "id": "biblical-indiana",
   "metadata": {},
   "outputs": [],
   "source": [
    "u=mda.Universe('../1.xyz','../PROJECT-pos-1.xyz')"
   ]
  },
  {
   "cell_type": "code",
   "execution_count": 57,
   "id": "excess-jacket",
   "metadata": {},
   "outputs": [
    {
     "data": {
      "application/vnd.jupyter.widget-view+json": {
       "model_id": "8e694b5cfe34413591f1a492c121da18",
       "version_major": 2,
       "version_minor": 0
      },
      "text/plain": [
       "NGLWidget(max_frame=2935)"
      ]
     },
     "metadata": {},
     "output_type": "display_data"
    }
   ],
   "source": [
    "nv.show_mdanalysis(u.atoms)"
   ]
  },
  {
   "cell_type": "code",
   "execution_count": 15,
   "id": "female-football",
   "metadata": {},
   "outputs": [
    {
     "name": "stdout",
     "output_type": "stream",
     "text": [
      "<Universe with 193 atoms>\n"
     ]
    }
   ],
   "source": [
    "align.AlignTraj()"
   ]
  },
  {
   "cell_type": "code",
   "execution_count": 60,
   "id": "combined-butler",
   "metadata": {},
   "outputs": [],
   "source": [
    "b=u.select_atoms('index 1')"
   ]
  },
  {
   "cell_type": "code",
   "execution_count": 63,
   "id": "boxed-words",
   "metadata": {},
   "outputs": [
    {
     "data": {
      "text/plain": [
       "array([90.   , 90.   , 90.   , 11.851, 12.993, 22.247], dtype=float32)"
      ]
     },
     "execution_count": 63,
     "metadata": {},
     "output_type": "execute_result"
    }
   ],
   "source": [
    "distances.distance_array()"
   ]
  }
 ],
 "metadata": {
  "kernelspec": {
   "display_name": "Python 3",
   "language": "python",
   "name": "python3"
  },
  "language_info": {
   "codemirror_mode": {
    "name": "ipython",
    "version": 3
   },
   "file_extension": ".py",
   "mimetype": "text/x-python",
   "name": "python",
   "nbconvert_exporter": "python",
   "pygments_lexer": "ipython3",
   "version": "3.8.3"
  }
 },
 "nbformat": 4,
 "nbformat_minor": 5
}
